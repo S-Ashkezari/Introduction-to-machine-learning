{
 "cells": [
  {
   "cell_type": "markdown",
   "id": "9baa3335",
   "metadata": {
    "papermill": {
     "duration": 0.005056,
     "end_time": "2022-09-23T19:23:48.841407",
     "exception": false,
     "start_time": "2022-09-23T19:23:48.836351",
     "status": "completed"
    },
    "tags": []
   },
   "source": [
    "<h1><center> 14 </center></h1>"
   ]
  },
  {
   "cell_type": "markdown",
   "id": "154be6da",
   "metadata": {
    "papermill": {
     "duration": 0.003386,
     "end_time": "2022-09-23T19:23:48.848791",
     "exception": false,
     "start_time": "2022-09-23T19:23:48.845405",
     "status": "completed"
    },
    "tags": []
   },
   "source": [
    "<h1>Objective:<h1> To perform FP-Growth Algorithm"
   ]
  },
  {
   "cell_type": "markdown",
   "id": "0e383d2b",
   "metadata": {
    "papermill": {
     "duration": 0.00344,
     "end_time": "2022-09-23T19:23:48.855908",
     "exception": false,
     "start_time": "2022-09-23T19:23:48.852468",
     "status": "completed"
    },
    "tags": []
   },
   "source": [
    "<h1>FP-Growth Description</h1>"
   ]
  },
  {
   "cell_type": "markdown",
   "id": "d139ab31",
   "metadata": {
    "papermill": {
     "duration": 0.003363,
     "end_time": "2022-09-23T19:23:48.862990",
     "exception": false,
     "start_time": "2022-09-23T19:23:48.859627",
     "status": "completed"
    },
    "tags": []
   },
   "source": [
    "- FP-growth is an improved version of the Apriori Algorithm which is widely used for frequent pattern mining(AKA Association Rule Mining). It is used as an analytical process that finds frequent patterns.\n",
    "- Several data items are connected together based on certain rules, which discovers the relations between them in large databases. FP Growth is one of the associative rule learning techniques which is used in machine learning for finding frequently occurring patterns.\n",
    "- This is represented in the form of a tree, maintaining the association between item sets. This is called the frequent pattern tree."
   ]
  },
  {
   "cell_type": "markdown",
   "id": "e9d788b9",
   "metadata": {
    "papermill": {
     "duration": 0.003387,
     "end_time": "2022-09-23T19:23:48.869991",
     "exception": false,
     "start_time": "2022-09-23T19:23:48.866604",
     "status": "completed"
    },
    "tags": []
   },
   "source": [
    "<h1> Importing Libraries </h1>"
   ]
  },
  {
   "cell_type": "code",
   "execution_count": 1,
   "id": "a73d59cc",
   "metadata": {
    "execution": {
     "iopub.execute_input": "2022-09-23T19:23:48.879748Z",
     "iopub.status.busy": "2022-09-23T19:23:48.878834Z",
     "iopub.status.idle": "2022-09-23T19:23:49.878861Z",
     "shell.execute_reply": "2022-09-23T19:23:49.877604Z"
    },
    "papermill": {
     "duration": 1.007901,
     "end_time": "2022-09-23T19:23:49.881611",
     "exception": false,
     "start_time": "2022-09-23T19:23:48.873710",
     "status": "completed"
    },
    "tags": []
   },
   "outputs": [],
   "source": [
    "import pandas as pd\n",
    "from mlxtend.preprocessing import TransactionEncoder \n",
    "from mlxtend.frequent_patterns import association_rules\n",
    "from mlxtend.frequent_patterns import fpgrowth"
   ]
  },
  {
   "cell_type": "code",
   "execution_count": 2,
   "id": "2013ea24",
   "metadata": {
    "execution": {
     "iopub.execute_input": "2022-09-23T19:23:49.892780Z",
     "iopub.status.busy": "2022-09-23T19:23:49.892368Z",
     "iopub.status.idle": "2022-09-23T19:23:49.901635Z",
     "shell.execute_reply": "2022-09-23T19:23:49.900516Z"
    },
    "papermill": {
     "duration": 0.016439,
     "end_time": "2022-09-23T19:23:49.903767",
     "exception": false,
     "start_time": "2022-09-23T19:23:49.887328",
     "status": "completed"
    },
    "tags": []
   },
   "outputs": [],
   "source": [
    "dataset = [['mbalvi', '5 kilo meters', 'remember to Walk'], ['mbalvi', 'remember to Walk'],\n",
    "['Divergent', 'Hassan','remember to Walk'], ['mbalvi', 'Five kilo meters'],\n",
    "['Divergent','Hassan']] \n",
    "te = TransactionEncoder()\n",
    "te_array = te.fit(dataset).transform(dataset)\n",
    "df = pd.DataFrame(te_array, columns=te.columns_)"
   ]
  },
  {
   "cell_type": "code",
   "execution_count": 3,
   "id": "89d618a9",
   "metadata": {
    "execution": {
     "iopub.execute_input": "2022-09-23T19:23:49.913231Z",
     "iopub.status.busy": "2022-09-23T19:23:49.912623Z",
     "iopub.status.idle": "2022-09-23T19:23:49.936858Z",
     "shell.execute_reply": "2022-09-23T19:23:49.935743Z"
    },
    "papermill": {
     "duration": 0.032595,
     "end_time": "2022-09-23T19:23:49.940269",
     "exception": false,
     "start_time": "2022-09-23T19:23:49.907674",
     "status": "completed"
    },
    "tags": []
   },
   "outputs": [
    {
     "data": {
      "text/html": [
       "<div>\n",
       "<style scoped>\n",
       "    .dataframe tbody tr th:only-of-type {\n",
       "        vertical-align: middle;\n",
       "    }\n",
       "\n",
       "    .dataframe tbody tr th {\n",
       "        vertical-align: top;\n",
       "    }\n",
       "\n",
       "    .dataframe thead th {\n",
       "        text-align: right;\n",
       "    }\n",
       "</style>\n",
       "<table border=\"1\" class=\"dataframe\">\n",
       "  <thead>\n",
       "    <tr style=\"text-align: right;\">\n",
       "      <th></th>\n",
       "      <th>5 kilo meters</th>\n",
       "      <th>Divergent</th>\n",
       "      <th>Five kilo meters</th>\n",
       "      <th>Hassan</th>\n",
       "      <th>mbalvi</th>\n",
       "      <th>remember to Walk</th>\n",
       "    </tr>\n",
       "  </thead>\n",
       "  <tbody>\n",
       "    <tr>\n",
       "      <th>0</th>\n",
       "      <td>True</td>\n",
       "      <td>False</td>\n",
       "      <td>False</td>\n",
       "      <td>False</td>\n",
       "      <td>True</td>\n",
       "      <td>True</td>\n",
       "    </tr>\n",
       "    <tr>\n",
       "      <th>1</th>\n",
       "      <td>False</td>\n",
       "      <td>False</td>\n",
       "      <td>False</td>\n",
       "      <td>False</td>\n",
       "      <td>True</td>\n",
       "      <td>True</td>\n",
       "    </tr>\n",
       "    <tr>\n",
       "      <th>2</th>\n",
       "      <td>False</td>\n",
       "      <td>True</td>\n",
       "      <td>False</td>\n",
       "      <td>True</td>\n",
       "      <td>False</td>\n",
       "      <td>True</td>\n",
       "    </tr>\n",
       "    <tr>\n",
       "      <th>3</th>\n",
       "      <td>False</td>\n",
       "      <td>False</td>\n",
       "      <td>True</td>\n",
       "      <td>False</td>\n",
       "      <td>True</td>\n",
       "      <td>False</td>\n",
       "    </tr>\n",
       "    <tr>\n",
       "      <th>4</th>\n",
       "      <td>False</td>\n",
       "      <td>True</td>\n",
       "      <td>False</td>\n",
       "      <td>True</td>\n",
       "      <td>False</td>\n",
       "      <td>False</td>\n",
       "    </tr>\n",
       "  </tbody>\n",
       "</table>\n",
       "</div>"
      ],
      "text/plain": [
       "   5 kilo meters  Divergent  Five kilo meters  Hassan  mbalvi  \\\n",
       "0           True      False             False   False    True   \n",
       "1          False      False             False   False    True   \n",
       "2          False       True             False    True   False   \n",
       "3          False      False              True   False    True   \n",
       "4          False       True             False    True   False   \n",
       "\n",
       "   remember to Walk  \n",
       "0              True  \n",
       "1              True  \n",
       "2              True  \n",
       "3             False  \n",
       "4             False  "
      ]
     },
     "execution_count": 3,
     "metadata": {},
     "output_type": "execute_result"
    }
   ],
   "source": [
    "df"
   ]
  },
  {
   "cell_type": "code",
   "execution_count": 4,
   "id": "495f30e9",
   "metadata": {
    "execution": {
     "iopub.execute_input": "2022-09-23T19:23:49.950981Z",
     "iopub.status.busy": "2022-09-23T19:23:49.950226Z",
     "iopub.status.idle": "2022-09-23T19:23:49.957120Z",
     "shell.execute_reply": "2022-09-23T19:23:49.956073Z"
    },
    "papermill": {
     "duration": 0.014887,
     "end_time": "2022-09-23T19:23:49.959457",
     "exception": false,
     "start_time": "2022-09-23T19:23:49.944570",
     "status": "completed"
    },
    "tags": []
   },
   "outputs": [
    {
     "data": {
      "text/plain": [
       "[['mbalvi', '5 kilo meters', 'remember to Walk'],\n",
       " ['mbalvi', 'remember to Walk'],\n",
       " ['Divergent', 'Hassan', 'remember to Walk'],\n",
       " ['mbalvi', 'Five kilo meters'],\n",
       " ['Divergent', 'Hassan']]"
      ]
     },
     "execution_count": 4,
     "metadata": {},
     "output_type": "execute_result"
    }
   ],
   "source": [
    "dataset"
   ]
  },
  {
   "cell_type": "code",
   "execution_count": 5,
   "id": "c2241f85",
   "metadata": {
    "execution": {
     "iopub.execute_input": "2022-09-23T19:23:49.969490Z",
     "iopub.status.busy": "2022-09-23T19:23:49.969085Z",
     "iopub.status.idle": "2022-09-23T19:23:49.983985Z",
     "shell.execute_reply": "2022-09-23T19:23:49.983182Z"
    },
    "papermill": {
     "duration": 0.022495,
     "end_time": "2022-09-23T19:23:49.986238",
     "exception": false,
     "start_time": "2022-09-23T19:23:49.963743",
     "status": "completed"
    },
    "tags": []
   },
   "outputs": [],
   "source": [
    "frequent_itemsets_fp=fpgrowth(df, min_support=0.02, use_colnames=True)\n",
    "\n",
    "frequent_itemsets_fp=fpgrowth(df, min_support=0.02, use_colnames=True)"
   ]
  },
  {
   "cell_type": "code",
   "execution_count": 6,
   "id": "9234b881",
   "metadata": {
    "execution": {
     "iopub.execute_input": "2022-09-23T19:23:49.996620Z",
     "iopub.status.busy": "2022-09-23T19:23:49.995740Z",
     "iopub.status.idle": "2022-09-23T19:23:50.005015Z",
     "shell.execute_reply": "2022-09-23T19:23:50.004041Z"
    },
    "papermill": {
     "duration": 0.016823,
     "end_time": "2022-09-23T19:23:50.007347",
     "exception": false,
     "start_time": "2022-09-23T19:23:49.990524",
     "status": "completed"
    },
    "tags": []
   },
   "outputs": [],
   "source": [
    "rules_fp = association_rules(frequent_itemsets_fp, metric=\"confidence\", min_threshold=0.8)"
   ]
  },
  {
   "cell_type": "code",
   "execution_count": 7,
   "id": "741d972d",
   "metadata": {
    "execution": {
     "iopub.execute_input": "2022-09-23T19:23:50.017669Z",
     "iopub.status.busy": "2022-09-23T19:23:50.016829Z",
     "iopub.status.idle": "2022-09-23T19:23:50.041832Z",
     "shell.execute_reply": "2022-09-23T19:23:50.041037Z"
    },
    "papermill": {
     "duration": 0.032376,
     "end_time": "2022-09-23T19:23:50.043922",
     "exception": false,
     "start_time": "2022-09-23T19:23:50.011546",
     "status": "completed"
    },
    "tags": []
   },
   "outputs": [
    {
     "data": {
      "text/html": [
       "<div>\n",
       "<style scoped>\n",
       "    .dataframe tbody tr th:only-of-type {\n",
       "        vertical-align: middle;\n",
       "    }\n",
       "\n",
       "    .dataframe tbody tr th {\n",
       "        vertical-align: top;\n",
       "    }\n",
       "\n",
       "    .dataframe thead th {\n",
       "        text-align: right;\n",
       "    }\n",
       "</style>\n",
       "<table border=\"1\" class=\"dataframe\">\n",
       "  <thead>\n",
       "    <tr style=\"text-align: right;\">\n",
       "      <th></th>\n",
       "      <th>antecedents</th>\n",
       "      <th>consequents</th>\n",
       "      <th>antecedent support</th>\n",
       "      <th>consequent support</th>\n",
       "      <th>support</th>\n",
       "      <th>confidence</th>\n",
       "      <th>lift</th>\n",
       "      <th>leverage</th>\n",
       "      <th>conviction</th>\n",
       "    </tr>\n",
       "  </thead>\n",
       "  <tbody>\n",
       "    <tr>\n",
       "      <th>0</th>\n",
       "      <td>(5 kilo meters)</td>\n",
       "      <td>(mbalvi)</td>\n",
       "      <td>0.2</td>\n",
       "      <td>0.6</td>\n",
       "      <td>0.2</td>\n",
       "      <td>1.0</td>\n",
       "      <td>1.666667</td>\n",
       "      <td>0.08</td>\n",
       "      <td>inf</td>\n",
       "    </tr>\n",
       "    <tr>\n",
       "      <th>1</th>\n",
       "      <td>(5 kilo meters)</td>\n",
       "      <td>(remember to Walk)</td>\n",
       "      <td>0.2</td>\n",
       "      <td>0.6</td>\n",
       "      <td>0.2</td>\n",
       "      <td>1.0</td>\n",
       "      <td>1.666667</td>\n",
       "      <td>0.08</td>\n",
       "      <td>inf</td>\n",
       "    </tr>\n",
       "    <tr>\n",
       "      <th>2</th>\n",
       "      <td>(mbalvi, 5 kilo meters)</td>\n",
       "      <td>(remember to Walk)</td>\n",
       "      <td>0.2</td>\n",
       "      <td>0.6</td>\n",
       "      <td>0.2</td>\n",
       "      <td>1.0</td>\n",
       "      <td>1.666667</td>\n",
       "      <td>0.08</td>\n",
       "      <td>inf</td>\n",
       "    </tr>\n",
       "    <tr>\n",
       "      <th>3</th>\n",
       "      <td>(5 kilo meters, remember to Walk)</td>\n",
       "      <td>(mbalvi)</td>\n",
       "      <td>0.2</td>\n",
       "      <td>0.6</td>\n",
       "      <td>0.2</td>\n",
       "      <td>1.0</td>\n",
       "      <td>1.666667</td>\n",
       "      <td>0.08</td>\n",
       "      <td>inf</td>\n",
       "    </tr>\n",
       "    <tr>\n",
       "      <th>4</th>\n",
       "      <td>(5 kilo meters)</td>\n",
       "      <td>(mbalvi, remember to Walk)</td>\n",
       "      <td>0.2</td>\n",
       "      <td>0.4</td>\n",
       "      <td>0.2</td>\n",
       "      <td>1.0</td>\n",
       "      <td>2.500000</td>\n",
       "      <td>0.12</td>\n",
       "      <td>inf</td>\n",
       "    </tr>\n",
       "    <tr>\n",
       "      <th>5</th>\n",
       "      <td>(Divergent)</td>\n",
       "      <td>(Hassan)</td>\n",
       "      <td>0.4</td>\n",
       "      <td>0.4</td>\n",
       "      <td>0.4</td>\n",
       "      <td>1.0</td>\n",
       "      <td>2.500000</td>\n",
       "      <td>0.24</td>\n",
       "      <td>inf</td>\n",
       "    </tr>\n",
       "    <tr>\n",
       "      <th>6</th>\n",
       "      <td>(Hassan)</td>\n",
       "      <td>(Divergent)</td>\n",
       "      <td>0.4</td>\n",
       "      <td>0.4</td>\n",
       "      <td>0.4</td>\n",
       "      <td>1.0</td>\n",
       "      <td>2.500000</td>\n",
       "      <td>0.24</td>\n",
       "      <td>inf</td>\n",
       "    </tr>\n",
       "    <tr>\n",
       "      <th>7</th>\n",
       "      <td>(Divergent, remember to Walk)</td>\n",
       "      <td>(Hassan)</td>\n",
       "      <td>0.2</td>\n",
       "      <td>0.4</td>\n",
       "      <td>0.2</td>\n",
       "      <td>1.0</td>\n",
       "      <td>2.500000</td>\n",
       "      <td>0.12</td>\n",
       "      <td>inf</td>\n",
       "    </tr>\n",
       "    <tr>\n",
       "      <th>8</th>\n",
       "      <td>(Hassan, remember to Walk)</td>\n",
       "      <td>(Divergent)</td>\n",
       "      <td>0.2</td>\n",
       "      <td>0.4</td>\n",
       "      <td>0.2</td>\n",
       "      <td>1.0</td>\n",
       "      <td>2.500000</td>\n",
       "      <td>0.12</td>\n",
       "      <td>inf</td>\n",
       "    </tr>\n",
       "    <tr>\n",
       "      <th>9</th>\n",
       "      <td>(Five kilo meters)</td>\n",
       "      <td>(mbalvi)</td>\n",
       "      <td>0.2</td>\n",
       "      <td>0.6</td>\n",
       "      <td>0.2</td>\n",
       "      <td>1.0</td>\n",
       "      <td>1.666667</td>\n",
       "      <td>0.08</td>\n",
       "      <td>inf</td>\n",
       "    </tr>\n",
       "  </tbody>\n",
       "</table>\n",
       "</div>"
      ],
      "text/plain": [
       "                         antecedents                 consequents  \\\n",
       "0                    (5 kilo meters)                    (mbalvi)   \n",
       "1                    (5 kilo meters)          (remember to Walk)   \n",
       "2            (mbalvi, 5 kilo meters)          (remember to Walk)   \n",
       "3  (5 kilo meters, remember to Walk)                    (mbalvi)   \n",
       "4                    (5 kilo meters)  (mbalvi, remember to Walk)   \n",
       "5                        (Divergent)                    (Hassan)   \n",
       "6                           (Hassan)                 (Divergent)   \n",
       "7      (Divergent, remember to Walk)                    (Hassan)   \n",
       "8         (Hassan, remember to Walk)                 (Divergent)   \n",
       "9                 (Five kilo meters)                    (mbalvi)   \n",
       "\n",
       "   antecedent support  consequent support  support  confidence      lift  \\\n",
       "0                 0.2                 0.6      0.2         1.0  1.666667   \n",
       "1                 0.2                 0.6      0.2         1.0  1.666667   \n",
       "2                 0.2                 0.6      0.2         1.0  1.666667   \n",
       "3                 0.2                 0.6      0.2         1.0  1.666667   \n",
       "4                 0.2                 0.4      0.2         1.0  2.500000   \n",
       "5                 0.4                 0.4      0.4         1.0  2.500000   \n",
       "6                 0.4                 0.4      0.4         1.0  2.500000   \n",
       "7                 0.2                 0.4      0.2         1.0  2.500000   \n",
       "8                 0.2                 0.4      0.2         1.0  2.500000   \n",
       "9                 0.2                 0.6      0.2         1.0  1.666667   \n",
       "\n",
       "   leverage  conviction  \n",
       "0      0.08         inf  \n",
       "1      0.08         inf  \n",
       "2      0.08         inf  \n",
       "3      0.08         inf  \n",
       "4      0.12         inf  \n",
       "5      0.24         inf  \n",
       "6      0.24         inf  \n",
       "7      0.12         inf  \n",
       "8      0.12         inf  \n",
       "9      0.08         inf  "
      ]
     },
     "execution_count": 7,
     "metadata": {},
     "output_type": "execute_result"
    }
   ],
   "source": [
    "rules_fp"
   ]
  },
  {
   "cell_type": "code",
   "execution_count": 8,
   "id": "33378066",
   "metadata": {
    "execution": {
     "iopub.execute_input": "2022-09-23T19:23:50.054496Z",
     "iopub.status.busy": "2022-09-23T19:23:50.054127Z",
     "iopub.status.idle": "2022-09-23T19:23:50.069357Z",
     "shell.execute_reply": "2022-09-23T19:23:50.068223Z"
    },
    "papermill": {
     "duration": 0.023145,
     "end_time": "2022-09-23T19:23:50.071675",
     "exception": false,
     "start_time": "2022-09-23T19:23:50.048530",
     "status": "completed"
    },
    "tags": []
   },
   "outputs": [
    {
     "data": {
      "text/html": [
       "<div>\n",
       "<style scoped>\n",
       "    .dataframe tbody tr th:only-of-type {\n",
       "        vertical-align: middle;\n",
       "    }\n",
       "\n",
       "    .dataframe tbody tr th {\n",
       "        vertical-align: top;\n",
       "    }\n",
       "\n",
       "    .dataframe thead th {\n",
       "        text-align: right;\n",
       "    }\n",
       "</style>\n",
       "<table border=\"1\" class=\"dataframe\">\n",
       "  <thead>\n",
       "    <tr style=\"text-align: right;\">\n",
       "      <th></th>\n",
       "      <th>support</th>\n",
       "      <th>itemsets</th>\n",
       "    </tr>\n",
       "  </thead>\n",
       "  <tbody>\n",
       "    <tr>\n",
       "      <th>0</th>\n",
       "      <td>0.6</td>\n",
       "      <td>(remember to Walk)</td>\n",
       "    </tr>\n",
       "    <tr>\n",
       "      <th>1</th>\n",
       "      <td>0.6</td>\n",
       "      <td>(mbalvi)</td>\n",
       "    </tr>\n",
       "    <tr>\n",
       "      <th>2</th>\n",
       "      <td>0.2</td>\n",
       "      <td>(5 kilo meters)</td>\n",
       "    </tr>\n",
       "    <tr>\n",
       "      <th>3</th>\n",
       "      <td>0.4</td>\n",
       "      <td>(Hassan)</td>\n",
       "    </tr>\n",
       "    <tr>\n",
       "      <th>4</th>\n",
       "      <td>0.4</td>\n",
       "      <td>(Divergent)</td>\n",
       "    </tr>\n",
       "    <tr>\n",
       "      <th>5</th>\n",
       "      <td>0.2</td>\n",
       "      <td>(Five kilo meters)</td>\n",
       "    </tr>\n",
       "    <tr>\n",
       "      <th>6</th>\n",
       "      <td>0.4</td>\n",
       "      <td>(mbalvi, remember to Walk)</td>\n",
       "    </tr>\n",
       "    <tr>\n",
       "      <th>7</th>\n",
       "      <td>0.2</td>\n",
       "      <td>(mbalvi, 5 kilo meters)</td>\n",
       "    </tr>\n",
       "    <tr>\n",
       "      <th>8</th>\n",
       "      <td>0.2</td>\n",
       "      <td>(5 kilo meters, remember to Walk)</td>\n",
       "    </tr>\n",
       "    <tr>\n",
       "      <th>9</th>\n",
       "      <td>0.2</td>\n",
       "      <td>(mbalvi, 5 kilo meters, remember to Walk)</td>\n",
       "    </tr>\n",
       "    <tr>\n",
       "      <th>10</th>\n",
       "      <td>0.2</td>\n",
       "      <td>(Hassan, remember to Walk)</td>\n",
       "    </tr>\n",
       "    <tr>\n",
       "      <th>11</th>\n",
       "      <td>0.4</td>\n",
       "      <td>(Divergent, Hassan)</td>\n",
       "    </tr>\n",
       "    <tr>\n",
       "      <th>12</th>\n",
       "      <td>0.2</td>\n",
       "      <td>(Divergent, remember to Walk)</td>\n",
       "    </tr>\n",
       "    <tr>\n",
       "      <th>13</th>\n",
       "      <td>0.2</td>\n",
       "      <td>(Divergent, Hassan, remember to Walk)</td>\n",
       "    </tr>\n",
       "    <tr>\n",
       "      <th>14</th>\n",
       "      <td>0.2</td>\n",
       "      <td>(mbalvi, Five kilo meters)</td>\n",
       "    </tr>\n",
       "  </tbody>\n",
       "</table>\n",
       "</div>"
      ],
      "text/plain": [
       "    support                                   itemsets\n",
       "0       0.6                         (remember to Walk)\n",
       "1       0.6                                   (mbalvi)\n",
       "2       0.2                            (5 kilo meters)\n",
       "3       0.4                                   (Hassan)\n",
       "4       0.4                                (Divergent)\n",
       "5       0.2                         (Five kilo meters)\n",
       "6       0.4                 (mbalvi, remember to Walk)\n",
       "7       0.2                    (mbalvi, 5 kilo meters)\n",
       "8       0.2          (5 kilo meters, remember to Walk)\n",
       "9       0.2  (mbalvi, 5 kilo meters, remember to Walk)\n",
       "10      0.2                 (Hassan, remember to Walk)\n",
       "11      0.4                        (Divergent, Hassan)\n",
       "12      0.2              (Divergent, remember to Walk)\n",
       "13      0.2      (Divergent, Hassan, remember to Walk)\n",
       "14      0.2                 (mbalvi, Five kilo meters)"
      ]
     },
     "execution_count": 8,
     "metadata": {},
     "output_type": "execute_result"
    }
   ],
   "source": [
    "frequent_itemsets_fp"
   ]
  },
  {
   "cell_type": "markdown",
   "id": "bf67a132",
   "metadata": {
    "execution": {
     "iopub.execute_input": "2022-09-20T09:18:00.896112Z",
     "iopub.status.busy": "2022-09-20T09:18:00.895672Z",
     "iopub.status.idle": "2022-09-20T09:18:00.904025Z",
     "shell.execute_reply": "2022-09-20T09:18:00.902102Z",
     "shell.execute_reply.started": "2022-09-20T09:18:00.896079Z"
    },
    "papermill": {
     "duration": 0.004412,
     "end_time": "2022-09-23T19:23:50.080852",
     "exception": false,
     "start_time": "2022-09-23T19:23:50.076440",
     "status": "completed"
    },
    "tags": []
   },
   "source": [
    "<h1> <center> Lab Task </center> </h1>"
   ]
  },
  {
   "cell_type": "markdown",
   "id": "9c89a9a1",
   "metadata": {
    "papermill": {
     "duration": 0.004197,
     "end_time": "2022-09-23T19:23:50.089488",
     "exception": false,
     "start_time": "2022-09-23T19:23:50.085291",
     "status": "completed"
    },
    "tags": []
   },
   "source": [
    "1. Apply the above code again to get more insight/results and write down your views?"
   ]
  }
 ],
 "metadata": {
  "kernelspec": {
   "display_name": "Python 3",
   "language": "python",
   "name": "python3"
  },
  "language_info": {
   "codemirror_mode": {
    "name": "ipython",
    "version": 3
   },
   "file_extension": ".py",
   "mimetype": "text/x-python",
   "name": "python",
   "nbconvert_exporter": "python",
   "pygments_lexer": "ipython3",
   "version": "3.7.12"
  },
  "papermill": {
   "default_parameters": {},
   "duration": 10.798517,
   "end_time": "2022-09-23T19:23:50.815050",
   "environment_variables": {},
   "exception": null,
   "input_path": "__notebook__.ipynb",
   "output_path": "__notebook__.ipynb",
   "parameters": {},
   "start_time": "2022-09-23T19:23:40.016533",
   "version": "2.3.4"
  }
 },
 "nbformat": 4,
 "nbformat_minor": 5
}

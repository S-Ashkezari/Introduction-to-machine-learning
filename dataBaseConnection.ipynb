{
 "cells": [
  {
   "cell_type": "markdown",
   "id": "bf806299",
   "metadata": {},
   "source": [
    "\n",
    "# نحوه اتصال به پایگاه داده در پایتون  \n",
    "<span style=\"color:black;font-family: B Nazanin;font-size:16px\">\n",
    "<div style=\"direction:rtl\">\n",
    "در این بخش نحوه اتصال به پایگاه داده SQLite3 و انجام عملیات مختلف را بررسی می کنیم.\n",
    " کتابخانه SQLite3 در پایتون موجود است.\n",
    "   \n",
    "</div>\n",
    "<div style=\"direction:rtl\">\n",
    "    اعمال مورد بررسی:   \n",
    "</div>\n",
    "    \n",
    "  CRUD\\\n",
    "  C: Create\\\n",
    "  R: Read\\\n",
    "  U: Update\\\n",
    "  D: Delete\n",
    "</span>\n",
    "\n",
    "ref: https://www.geeksforgeeks.org/sql-using-python/"
   ]
  },
  {
   "cell_type": "markdown",
   "id": "52ac8b26",
   "metadata": {},
   "source": [
    "<span style=\"color:black;font-family: B Nazanin;font-size:16px\">\n",
    "<div style=\"direction:rtl\"> \n",
    "    ابتدا باید sqlite3 را import نماییم \n",
    "\n",
    "</div>\n",
    "</span>"
   ]
  },
  {
   "cell_type": "code",
   "execution_count": 11,
   "id": "b4e4f5aa",
   "metadata": {},
   "outputs": [],
   "source": [
    "import sqlite3"
   ]
  },
  {
   "cell_type": "markdown",
   "id": "45b317a0",
   "metadata": {},
   "source": [
    "<span style=\"font-family: B Nazanin;font-size:16px\">\n",
    "<div style=\"direction:rtl\">\n",
    "    سپس با استفاده از متد $connect()$ یک اتصال ایجاد میکنیم و نام پایگاه داده ای را که می خواهیم به آن دسترسی داشته باشیم مشخص میکنیم. اگر فایلی با آن نام وجود داشته باشد آن فایل را باز می کند. در غیر این صورت، پایتون یک فایل با نام داده شده ایجاد می کند.\n",
    "    سپس، یک شی cursor فراخوانی می شود تا بتواند دستورات را به SQL ارسال کند.\n",
    "</div>\n",
    "</span>\n",
    "\n"
   ]
  },
  {
   "cell_type": "code",
   "execution_count": 12,
   "id": "ab4ddf21",
   "metadata": {},
   "outputs": [
    {
     "name": "stdout",
     "output_type": "stream",
     "text": [
      "Connected to the database\n"
     ]
    }
   ],
   "source": [
    "import sqlite3\n",
    "\n",
    "# connecting to the database\n",
    "connection = sqlite3.connect(\"testDB.db\")\n",
    "\n",
    "# cursor\n",
    "crsr = connection.cursor()\n",
    "\n",
    "# print statement will execute if there\n",
    "# are no errors\n",
    "print(\"Connected to the database\")\n",
    "\n",
    "# close the connection\n",
    "connection.close()\n"
   ]
  },
  {
   "cell_type": "markdown",
   "id": "776ba514",
   "metadata": {},
   "source": [
    "## cursor آشنایی با \n",
    "<span style=\"color:black;font-family: B Nazanin;font-size:16px\">\n",
    "<div style=\"direction:rtl\">\n",
    "<ul>\n",
    "    <li>\n",
    "شی cursor برای ایجاد اتصال برای اجرای پرس و جوهای SQL استفاده می شود\n",
    "    </li>\n",
    "    <li>\n",
    "        به عنوان میان افزار بین اتصال پایگاه داده SQLite و پرس و جو SQL عمل می کند\n",
    "    </li>\n",
    "    <li>\n",
    "       cursor یک ساختار کنترلی است که برای پیمایش و واکشی رکوردهای پایگاه داده استفاده می شود و  پس از اتصال به پایگاه داده SQLite ایجاد می شود\n",
    "    </li>\n",
    "    <li>\n",
    "        تمام دستورات فقط با استفاده از cursor نما اجرا می شوند تمام دستورات فقط با استفاده از cursor نما اجرا می شوند\n",
    "    </li>    \n",
    "</ul>    \n",
    "</div>\n",
    "</span>"
   ]
  },
  {
   "cell_type": "markdown",
   "id": "26f18bd5",
   "metadata": {},
   "source": [
    "# ایجاد جدول\n",
    "\n",
    "<span style=\"color:black;font-family: B Nazanin;font-size:16px\">\n",
    "<div style=\"direction:rtl\">\n",
    "پس از اتصال به پایگاه داده و ایجاد شی مکان نما، ببینیم که چگونه کوئری ها را اجرا کنیم\n",
    "    <ul>\n",
    "    <li>\n",
    "برای اجرای یک کوئری در پایگاه داده، یک شی ایجاد می کنیم و دستور SQL را در آن بنویسیم. \n",
    "    </li>\n",
    "    <li>\n",
    "برای اجرای دستور متد $execute()$ را فراخوانی می کنیم و نام دستور SQL را به عنوان پارامتر در آن قرار می دهیم\n",
    "        </li>\n",
    "        <li>\n",
    "پس از انجام کار، تغییرات را در فایل ذخیره و سپس اتصال را قطع می کنیم.\n",
    "        </li>\n",
    "    </ul>\n",
    "</div>\n",
    "</span>\n",
    "    "
   ]
  },
  {
   "cell_type": "code",
   "execution_count": 4,
   "id": "4017e795",
   "metadata": {},
   "outputs": [],
   "source": [
    "import sqlite3\n",
    "\n",
    "# connecting to the database\n",
    "connection = sqlite3.connect(\"testDB.db\")\n",
    "\n",
    "# cursor\n",
    "crsr = connection.cursor()\n",
    "\n",
    "# SQL command to create a table in the database\n",
    "sql_command = \"\"\"CREATE TABLE emp ( \n",
    "staff_number INT PRIMARY KEY, \n",
    "fname VARCHAR(20), \n",
    "lname VARCHAR(30), \n",
    "gender CHAR(1), \n",
    "joining DATE);\"\"\"\n",
    "\n",
    "# execute the statement\n",
    "crsr.execute(sql_command)\n",
    "\n",
    "# close the connection\n",
    "connection.close()\n"
   ]
  },
  {
   "cell_type": "markdown",
   "id": "9f832555",
   "metadata": {},
   "source": [
    "\n",
    "<span style=\"color:black;font-family: B Nazanin;font-size:16px\">\n",
    "<div style=\"direction:rtl\">\n",
    "    بعد از ساخت جدول، نوبت به درج داده می رسد:\n",
    "</div>\n",
    "</span>"
   ]
  },
  {
   "cell_type": "code",
   "execution_count": null,
   "id": "512bddf8",
   "metadata": {},
   "outputs": [],
   "source": [
    "# Python code to demonstrate table creation and\n",
    "# insertions with SQL\n",
    "\n",
    "# importing module\n",
    "import sqlite3\n",
    "\n",
    "# connecting to the database\n",
    "connection = sqlite3.connect(\"testDB.db\")\n",
    "\n",
    "# cursor\n",
    "crsr = connection.cursor()\n",
    "\n",
    "# SQL command to insert the data in the table\n",
    "sql_command = \"\"\"INSERT INTO emp VALUES (23, \"Rishabh\",\\\n",
    "\"Bansal\", \"M\", \"2014-03-28\");\"\"\"\n",
    "crsr.execute(sql_command)\n",
    "\n",
    "# another SQL command to insert the data in the table\n",
    "sql_command = \"\"\"INSERT INTO emp VALUES (1, \"Bill\", \"Gates\",\\\n",
    "\"M\", \"1980-10-28\");\"\"\"\n",
    "crsr.execute(sql_command)\n",
    "\n",
    "# To save the changes in the files. Never skip this.\n",
    "# If we skip this, nothing will be saved in the database.\n",
    "connection.commit()\n",
    "\n",
    "# close the connection\n",
    "connection.close()\n"
   ]
  },
  {
   "cell_type": "markdown",
   "id": "ec886976",
   "metadata": {},
   "source": [
    "<span style=\"color:black;font-family: B Nazanin;font-size:16px\">\n",
    "<div style=\"direction:rtl\">\n",
    "مثال: درج داده توسط کاربر\n",
    "</span>\n",
    "</div>"
   ]
  },
  {
   "cell_type": "code",
   "execution_count": 6,
   "id": "e2f54871",
   "metadata": {},
   "outputs": [],
   "source": [
    "# importing module\n",
    "import sqlite3\n",
    "\n",
    "# connecting to the database\n",
    "connection = sqlite3.connect(\"testDB.db\")\n",
    "\n",
    "# cursor\n",
    "crsr = connection.cursor()\n",
    "\n",
    "# primary key\n",
    "pk = [2, 3, 4, 5, 6]\n",
    "\n",
    "# Enter 5 students first names\n",
    "f_name = ['Nikhil', 'Nisha', 'Abhinav', 'Raju', 'Anshul']\n",
    "\n",
    "# Enter 5 students last names\n",
    "l_name = ['Aggarwal', 'Rawat', 'Tomar', 'Kumar', 'Aggarwal']\n",
    "\n",
    "# Enter their gender respectively\n",
    "gender = ['M', 'F', 'M', 'M', 'F']\n",
    "\n",
    "# Enter their joining data respectively\n",
    "date = ['2019-08-24', '2020-01-01', '2018-05-14', '2015-02-02', '2018-05-14']\n",
    "\n",
    "for i in range(5):\n",
    "\n",
    "\t# This is the q-mark style:\n",
    "\t#crsr.execute('INSERT INTO employee3 VALUES (\"{pk[i]}\", \"{f_name[i]}\", \"{l_name[i]}\", \"{gender[i]}\", \"{date[i]}\")')\n",
    "    crsr.execute('INSERT INTO emp2 VALUES (?, ?, ?, ?, ?)', (pk[i], f_name[i], l_name[i], gender[i], date[i]))\n",
    "\n",
    "\n",
    "# To save the changes in the files. Never skip this.\n",
    "# If we skip this, nothing will be saved in the database.\n",
    "connection.commit()\n",
    "\n",
    "# close the connection\n",
    "connection.close()\n"
   ]
  },
  {
   "cell_type": "markdown",
   "id": "68ccad46",
   "metadata": {},
   "source": [
    "# (Fetching Data) واکشی داده ها   "
   ]
  },
  {
   "cell_type": "markdown",
   "id": "3633f05e",
   "metadata": {},
   "source": [
    "<span style=\"color:black;font-family: B Nazanin;font-size:16px\">\n",
    "<div style=\"direction:rtl\">\n",
    "با استفاده از کوئری Select * from table_name می توان همه داده های یک جدول را واکشی و آنها را در شیئی ذخیره نمود\n",
    "</span>\n",
    "</div>"
   ]
  },
  {
   "cell_type": "code",
   "execution_count": 7,
   "id": "e57ed39a",
   "metadata": {},
   "outputs": [
    {
     "name": "stdout",
     "output_type": "stream",
     "text": [
      "(2, 'Nikhil', 'Aggarwal', 'M', '2019-08-24')\n",
      "(3, 'Nisha', 'Rawat', 'F', '2020-01-01')\n",
      "(4, 'Abhinav', 'Tomar', 'M', '2018-05-14')\n",
      "(5, 'Raju', 'Kumar', 'M', '2015-02-02')\n",
      "(6, 'Anshul', 'Aggarwal', 'F', '2018-05-14')\n"
     ]
    }
   ],
   "source": [
    "# importing the module\n",
    "import sqlite3\n",
    "\n",
    "# connect with the myTable database\n",
    "connection = sqlite3.connect(\"testDB.db\")\n",
    "\n",
    "# cursor object\n",
    "crsr = connection.cursor()\n",
    "\n",
    "# execute the command to fetch all the data from the table emp\n",
    "crsr.execute(\"SELECT * FROM emp\")\n",
    "\n",
    "# store all the fetched data in the ans variable\n",
    "ans = crsr.fetchall()\n",
    "\n",
    "# Since we have already selected all the data entries\n",
    "# using the \"SELECT *\" SQL command and stored them in\n",
    "# the ans variable, all we need to do now is to print\n",
    "# out the ans variable\n",
    "for i in ans:\n",
    "\tprint(i)\n"
   ]
  },
  {
   "cell_type": "markdown",
   "id": "3b58fc87",
   "metadata": {},
   "source": [
    "# به روز رسانی داده ها\n",
    "\n",
    "<span style=\"color:black;font-family: B Nazanin;font-size:16px\">\n",
    "<div style=\"direction:rtl\">\n",
    "برای به روز رسانی داده ها در جدول SQLite3 از دستور UPDATE استفاده می کنیم. می‌توانیم ستون‌های تک و یا چندین ستون را با استفاده از عبارت UPDATE بر اساس نیاز خود به‌روزرسانی کنیم.\n",
    "    </span>\n",
    "    </div>\n",
    "<pre>UPDATE table_name SET column1 = value1, column2 = value2,…  \n",
    "WHERE condition; </pre>    "
   ]
  },
  {
   "cell_type": "code",
   "execution_count": null,
   "id": "93d8589a",
   "metadata": {},
   "outputs": [],
   "source": [
    "# Import module\n",
    "import sqlite3\n",
    "\n",
    "# Connecting to sqlite\n",
    "conn = sqlite3.connect('testDB.db')\n",
    "\n",
    "# Creating a cursor object using\n",
    "# the cursor() method\n",
    "cursor = conn.cursor()\n",
    "\n",
    "# Updating\n",
    "cursor.execute('''UPDATE emp SET lname = \"Jyoti\" WHERE fname=\"Rishabh\";''')\n",
    "\n",
    "# Commit your changes in the database\n",
    "conn.commit()\n",
    "\n",
    "# Closing the connection\n",
    "conn.close()\n",
    "\n"
   ]
  },
  {
   "cell_type": "markdown",
   "id": "79900971",
   "metadata": {},
   "source": [
    "# حذف داده ها و جداول"
   ]
  },
  {
   "cell_type": "markdown",
   "id": "8a2eeb13",
   "metadata": {},
   "source": [
    "<span style=\"color:black;font-family: B Nazanin;font-size:16px\">\n",
    "<div style=\"direction:rtl\">\n",
    "برای حذف داده از یک جدول از دستور زیر استفاده می کنیم:\n",
    "\n",
    "</span>\n",
    "</div>\n",
    "\n",
    "<pre>UPDATE table_name SET column1 = value1, column2 = value2,…  \n",
    "WHERE condition; </pre>\n",
    "\n",
    "<span style=\"color:black;font-family: B Nazanin;font-size:16px\">\n",
    "<div style=\"direction:rtl\">\n",
    "    مثال:\n",
    "\n",
    "</span>\n",
    "</div>"
   ]
  },
  {
   "cell_type": "code",
   "execution_count": null,
   "id": "e8f9a399",
   "metadata": {},
   "outputs": [],
   "source": [
    "# Import module\n",
    "import sqlite3\n",
    "\n",
    "# Connecting to sqlite\n",
    "conn = sqlite3.connect('testDB.db')\n",
    "\n",
    "# Creating a cursor object using\n",
    "# the cursor() method\n",
    "cursor = conn.cursor()\n",
    "\n",
    "# Updating\n",
    "cursor.execute('''DELETE FROM emp WHERE fname=\"Rishabh\";''')\n",
    "\n",
    "# Commit your changes in the database\n",
    "conn.commit()\n",
    "\n",
    "# Closing the connection\n",
    "conn.close()\n"
   ]
  },
  {
   "cell_type": "markdown",
   "id": "602504c6",
   "metadata": {},
   "source": [
    "<span style=\"color:black;font-family: B Nazanin;font-size:16px\">\n",
    "<div style=\"direction:rtl\">\n",
    "برای حذف یک جدول با داده هایش نیز از دستور DROP TABLE استفاده می کنیم.\n",
    "    مثال:\n",
    "</span>\n",
    "</div>"
   ]
  },
  {
   "cell_type": "code",
   "execution_count": null,
   "id": "ee8869cf",
   "metadata": {},
   "outputs": [],
   "source": [
    "# Import module\n",
    "import sqlite3\n",
    "\n",
    "# Connecting to sqlite\n",
    "conn = sqlite3.connect('testDB.db')\n",
    "\n",
    "# Creating a cursor object using\n",
    "# the cursor() method\n",
    "cursor = conn.cursor()\n",
    "\n",
    "# Updating\n",
    "cursor.execute('''DROP TABLE Student;''')\n",
    "\n",
    "# Commit your changes in the database\n",
    "conn.commit()\n",
    "\n",
    "# Closing the connection\n",
    "conn.close()\n"
   ]
  },
  {
   "cell_type": "markdown",
   "id": "fa0022ff",
   "metadata": {},
   "source": [
    "<span style=\"color:black;font-family: B Nazanin;font-size:16px\">\n",
    "<div style=\"direction:rtl\">\n",
    "مطالعه بیشتر در\n",
    "<a href=\"https://www.geeksforgeeks.org/python-sqlite/\">python-sqlite tutorial</a>\n",
    "    \n",
    "</span>\n",
    "</div>"
   ]
  },
  {
   "cell_type": "markdown",
   "id": "9bde61bf",
   "metadata": {},
   "source": []
  }
 ],
 "metadata": {
  "kernelspec": {
   "display_name": "Python 3 (ipykernel)",
   "language": "python",
   "name": "python3"
  },
  "language_info": {
   "codemirror_mode": {
    "name": "ipython",
    "version": 3
   },
   "file_extension": ".py",
   "mimetype": "text/x-python",
   "name": "python",
   "nbconvert_exporter": "python",
   "pygments_lexer": "ipython3",
   "version": "3.9.2"
  }
 },
 "nbformat": 4,
 "nbformat_minor": 5
}
